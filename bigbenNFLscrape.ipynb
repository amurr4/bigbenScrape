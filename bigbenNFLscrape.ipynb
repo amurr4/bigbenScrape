{
 "cells": [
  {
   "cell_type": "code",
   "execution_count": 1,
   "metadata": {},
   "outputs": [
    {
     "name": "stdout",
     "output_type": "stream",
     "text": [
      "This .py is working!\n"
     ]
    }
   ],
   "source": [
    "import pandas as pd\n",
    "import scrapeAssist\n",
    "import csvAssist"
   ]
  },
  {
   "cell_type": "code",
   "execution_count": 2,
   "metadata": {},
   "outputs": [],
   "source": [
    "years=list(range(2004,2022))"
   ]
  },
  {
   "cell_type": "code",
   "execution_count": 3,
   "metadata": {},
   "outputs": [
    {
     "name": "stdout",
     "output_type": "stream",
     "text": [
      "['https://www.nfl.com/players/ben-roethlisberger/stats/splits/2004/', 'https://www.nfl.com/players/ben-roethlisberger/stats/splits/2005/', 'https://www.nfl.com/players/ben-roethlisberger/stats/splits/2006/', 'https://www.nfl.com/players/ben-roethlisberger/stats/splits/2007/', 'https://www.nfl.com/players/ben-roethlisberger/stats/splits/2008/', 'https://www.nfl.com/players/ben-roethlisberger/stats/splits/2009/', 'https://www.nfl.com/players/ben-roethlisberger/stats/splits/2010/', 'https://www.nfl.com/players/ben-roethlisberger/stats/splits/2011/', 'https://www.nfl.com/players/ben-roethlisberger/stats/splits/2012/', 'https://www.nfl.com/players/ben-roethlisberger/stats/splits/2013/', 'https://www.nfl.com/players/ben-roethlisberger/stats/splits/2014/', 'https://www.nfl.com/players/ben-roethlisberger/stats/splits/2015/', 'https://www.nfl.com/players/ben-roethlisberger/stats/splits/2016/', 'https://www.nfl.com/players/ben-roethlisberger/stats/splits/2017/', 'https://www.nfl.com/players/ben-roethlisberger/stats/splits/2018/', 'https://www.nfl.com/players/ben-roethlisberger/stats/splits/2019/', 'https://www.nfl.com/players/ben-roethlisberger/stats/splits/2020/', 'https://www.nfl.com/players/ben-roethlisberger/stats/splits/2021/']\n"
     ]
    }
   ],
   "source": [
    "url_list=[]\n",
    "\n",
    "for yr in years:\n",
    "    url_list.append(f\"https://www.nfl.com/players/ben-roethlisberger/stats/splits/{yr}/\".format(yr))\n",
    "print(url_list)"
   ]
  },
  {
   "cell_type": "code",
   "execution_count": 4,
   "metadata": {},
   "outputs": [
    {
     "name": "stdout",
     "output_type": "stream",
     "text": [
      "Starting Scrape\n",
      "Stats from 2004 have been added...\n",
      "Stats from 2005 have been added...\n",
      "Stats from 2006 have been added...\n",
      "Stats from 2007 have been added...\n",
      "Stats from 2008 have been added...\n",
      "Stats from 2009 have been added...\n",
      "Stats from 2010 have been added...\n",
      "Stats from 2011 have been added...\n",
      "Stats from 2012 have been added...\n",
      "Stats from 2013 have been added...\n",
      "Stats from 2014 have been added...\n",
      "Stats from 2015 have been added...\n",
      "Stats from 2016 have been added...\n",
      "Stats from 2017 have been added...\n",
      "Stats from 2018 have been added...\n",
      "Stats from 2019 have been added...\n",
      "Stats from 2020 have been added...\n",
      "Stats from 2021 have been added...\n",
      "Completed!\n"
     ]
    }
   ],
   "source": [
    "print(\"Starting Scrape\")\n",
    "for url,yr in zip(url_list,years):\n",
    "    stats_list,titles_list = scrapeAssist.scrapePage(url,yr)\n",
    "    csvAssist.insertData(stats_list,titles_list)\n",
    "    print(\"Stats from\", yr , \"have been added...\")\n",
    "print(\"Completed!\")"
   ]
  }
 ],
 "metadata": {
  "kernelspec": {
   "display_name": "base",
   "language": "python",
   "name": "python3"
  },
  "language_info": {
   "codemirror_mode": {
    "name": "ipython",
    "version": 3
   },
   "file_extension": ".py",
   "mimetype": "text/x-python",
   "name": "python",
   "nbconvert_exporter": "python",
   "pygments_lexer": "ipython3",
   "version": "3.9.7"
  },
  "orig_nbformat": 4
 },
 "nbformat": 4,
 "nbformat_minor": 2
}
